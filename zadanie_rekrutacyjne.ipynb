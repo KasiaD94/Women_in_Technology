{
 "cells": [
  {
   "cell_type": "markdown",
   "metadata": {},
   "source": [
    "**Seria warsztatów z analizy danych w Pythonie**\n",
    "\n",
    "_Zadanie rekrutacyjne_\n",
    "\n",
    "Napisz funkcję <code><font color=\"blue\">are_anagrams</font>(s1, s2, s3)</code>, która zwróci:\n",
    "\n",
    "* <code>True</code>, jeżeli łańcuchy znaków <code>s1, s2, s3</code> są anagramami,\n",
    "\n",
    "* <code>False</code>, jeżeli łańcuchy znaków <code>s1, s2, s3</code> nie są anagramami.\n",
    "\n",
    "Załóż, że maksymalna długość każdego z łańcuchów znaków jest równa **5**.\n",
    "\n",
    "Uzasadnij zaproponowane rozwiązanie, umieszczając komentarze w treści kodu."
   ]
  },
  {
   "cell_type": "code",
   "execution_count": 8,
   "metadata": {},
   "outputs": [],
   "source": [
    "def are_anagrams(s1, s2, s3):\n",
    "    from collections import Counter # importuje Counter, ktory dopasowuje pary klucz:wartosc (tutaj litera:ilosc wystapien w tekscie)\n",
    "    if (len(s1) == len(s2) == len(s3)) and len(s1) <= 5: # sprawdzam, czy ciag znakow jest tej samej dlugosci i czy jego dlugosc jest <=5, w przeciwnym razie mozna od razu odrzucic twierdzenie, ze lancuchy znakow sa anagramami\n",
    "        if Counter(s1) == Counter(s2) == Counter(s3): # porownuje, czy slowniki par litera:ilosc jej wystapien w tekscie sa takie same dla wszystkich ciagow znakow, jesli tak to wyrazy sa anagramami\n",
    "            return True\n",
    "        else:\n",
    "            return False # jezeli ciag znakow jest tej samej dlugosci i dlugosc<=5, ale slowniki par litera:ilosc jej wystapien w tekscie jest niezgodna to wyrazy nie sa angramami\n",
    "    else:\n",
    "        return False # jezeli ciag znakow jest roznej dlugosci lub dlugosc>5 - to nie anagramy\n",
    "\n",
    "\"\"\"Do powyzszej funkcji uzylam funkcji Counter, poniewaz kiedys sie juz na nia natknelam i skraca ona prace. \n",
    "Ponizej dopisalam funkcje are_anagrams_v2, ktora nie wykorzystuje Counter'a\"\"\"    \n",
    "    \n",
    "def are_anagrams_v2(s1, s2, s3):\n",
    "    if (len(s1) == len(s2) == len(s3)) and len(s1) <= 5: #j.w.\n",
    "        check_dict = [] # tworze liste, do ktorej pozniej bede zapisywac slowniki\n",
    "        for word in [s1,s2,s3]: # iteruje po kazdym wyrazie\n",
    "            unique_letters = list(set(word)) # tworze liste unikalnych liter z danego slowa\n",
    "            letter_counter = dict.fromkeys(unique_letters, 0) # tworze slownik, ktorego klucze to unikalne litery, a wartosci poczatkowe to 0\n",
    "            for letter in word: # iteruje po literze w danym wyrazie\n",
    "                letter_counter[letter] = letter_counter[letter] + 1 # dodaje iterowana litere do wartosci w slowniku\n",
    "            check_dict.append(letter_counter) # do listy dodaje slownik par litera:ilosc jej wystapien w wyrazie\n",
    "        if check_dict[0] == check_dict[1] == check_dict[2]: # jesli zapisane slowniki sa rowne, to wyrazy sa anagramami\n",
    "            return True\n",
    "        else:\n",
    "            return False #j.w.\n",
    "    else:\n",
    "        return False # j.w.\n",
    "    "
   ]
  },
  {
   "cell_type": "code",
   "execution_count": null,
   "metadata": {},
   "outputs": [],
   "source": []
  }
 ],
 "metadata": {
  "celltoolbar": "Edit Metadata",
  "kernelspec": {
   "display_name": "Python 3",
   "language": "python",
   "name": "python3"
  },
  "language_info": {
   "codemirror_mode": {
    "name": "ipython",
    "version": 3
   },
   "file_extension": ".py",
   "mimetype": "text/x-python",
   "name": "python",
   "nbconvert_exporter": "python",
   "pygments_lexer": "ipython3",
   "version": "3.7.0"
  }
 },
 "nbformat": 4,
 "nbformat_minor": 2
}
